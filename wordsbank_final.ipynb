{
 "cells": [
  {
   "cell_type": "code",
   "execution_count": 1,
   "metadata": {},
   "outputs": [],
   "source": [
    "import os\n",
    "import string\n",
    "from nltk.corpus import stopwords\n",
    "from collections import OrderedDict\n",
    "import re\n",
    "import numpy as np\n",
    "import dataframe_image as dfi\n",
    "\n",
    "#Path with the words bank\n",
    "path='/home/valentina/SOFKA/raw_texts'\n",
    "\n",
    "#Open all the .txt and create a new file called merge\n",
    "\n",
    "inputs = []\n",
    "for file in os.listdir(path):\n",
    "    if file.endswith(\".txt\"):\n",
    "        inputs.append(os.path.join(path, file))\n",
    "with open('merged_file.txt', 'w') as outfile:\n",
    "    for fname in inputs:\n",
    "        with open(fname, encoding=\"utf-8\", errors='ignore') as infile:\n",
    "            for line in infile:\n",
    "                outfile.write(line)\n",
    "#Reading the text\n",
    "\n",
    "filename = 'merged_file.txt'\n",
    "file = open(filename, 'rt')\n",
    "text = file.read()\n",
    "file.close()\n"
   ]
  },
  {
   "cell_type": "code",
   "execution_count": 2,
   "metadata": {},
   "outputs": [],
   "source": [
    "text=re.sub('[A-ZÑ]\\w*[A-ZÑ]\\w*', ' ', text)"
   ]
  },
  {
   "cell_type": "code",
   "execution_count": 4,
   "metadata": {},
   "outputs": [
    {
     "data": {
      "text/plain": [
       "'\\n\\n\\n\\ngrecia (en griego moderno, ελλάδα, elláda,  :\\xa0[eˈlaða]\\xa0( escuchar); en griego antiguo, ἑλλάς, hellás), oficialmente república helénica (en griego, ελληνική δημοκρατία, ellinikí dimokratía,  :\\xa0[eliniˈci ðimokɾaˈtia]), es uno de los veintisiete estados soberanos que forman la unión europea.[4]\\u200b en este país viven alrededor de once millones de habitantes que conforman una sociedad muy homogénea, donde principalmente se habla griego y se practica el cristianismo ortodoxo.[8]\\u200b\\n\\natenas, la capital, es la ciudad más poblada del país y la segunda es tesalónica. otras ciudades como el pireo, patras, heraclión y lárisa, son centros políticos, económicos y culturales a nivel regional.[9]\\u200b\\n\\ngrecia está estratégicamente ubicada entre europa, asia y áfrica, y comparte fronteras terrestres al noroeste con albania, al norte con macedonia del norte y bulgaria, y al noreste con turquía.[10]\\u200b[11]\\u200b[12]\\u200b al este se encuentra el mar egeo, al oeste el mar jónico y en el sur, el mediterráneo; estos tres m'"
      ]
     },
     "execution_count": 4,
     "metadata": {},
     "output_type": "execute_result"
    }
   ],
   "source": [
    "text[0:1000]"
   ]
  },
  {
   "cell_type": "code",
   "execution_count": 5,
   "metadata": {},
   "outputs": [],
   "source": [
    "text= text.lower()"
   ]
  },
  {
   "cell_type": "code",
   "execution_count": 6,
   "metadata": {},
   "outputs": [],
   "source": [
    "text=re.sub('á', 'a', text)\n",
    "text=re.sub('é', 'e', text)\n",
    "text=re.sub('í', 'i', text)\n",
    "text=re.sub('ó', 'o', text)\n",
    "text=re.sub('ú', 'u', text)"
   ]
  },
  {
   "cell_type": "code",
   "execution_count": 7,
   "metadata": {},
   "outputs": [],
   "source": [
    "re.sub('[\\-\\/\\(\\)\\)\\[\\]\\'\\\"\\:\\;\\,\\.\\n]', ' ', text)"
   ]
  },
  {
   "cell_type": "code",
   "execution_count": 9,
   "metadata": {},
   "outputs": [],
   "source": [
    "text=  re.sub(r'[0-9]', ' ', text)"
   ]
  },
  {
   "cell_type": "code",
   "execution_count": 11,
   "metadata": {},
   "outputs": [],
   "source": [
    "text = list(re.findall('([A-Za-zñÑ]{4,100})[\\s]*', text))"
   ]
  },
  {
   "cell_type": "code",
   "execution_count": 12,
   "metadata": {},
   "outputs": [],
   "source": [
    "stop_words = stopwords.words('spanish')\n",
    "text = [w for w in text if not w in stop_words]"
   ]
  },
  {
   "cell_type": "code",
   "execution_count": 13,
   "metadata": {},
   "outputs": [],
   "source": [
    "words_bank = list(OrderedDict.fromkeys(text))\n"
   ]
  },
  {
   "cell_type": "code",
   "execution_count": 20,
   "metadata": {},
   "outputs": [],
   "source": [
    "np.savetxt(\"words_bank.csv\", words_bank, delimiter=\", \", fmt=\"%s\")"
   ]
  },
  {
   "cell_type": "code",
   "execution_count": 14,
   "metadata": {},
   "outputs": [
    {
     "name": "stdout",
     "output_type": "stream",
     "text": [
      "32430\n"
     ]
    }
   ],
   "source": [
    "print(len(words_bank))"
   ]
  },
  {
   "cell_type": "code",
   "execution_count": 15,
   "metadata": {},
   "outputs": [],
   "source": [
    "filename = 'final_cleanLauraV4 (1).txt'\n",
    "file = open(filename, 'rt')\n",
    "text_laura = file.read()\n",
    "file.close()\n"
   ]
  },
  {
   "cell_type": "code",
   "execution_count": 16,
   "metadata": {},
   "outputs": [
    {
     "data": {
      "text/plain": [
       "32430"
      ]
     },
     "execution_count": 16,
     "metadata": {},
     "output_type": "execute_result"
    }
   ],
   "source": [
    "text_lau =text_laura.split()\n",
    "\n",
    "len(text_lau) "
   ]
  },
  {
   "cell_type": "code",
   "execution_count": 17,
   "metadata": {},
   "outputs": [],
   "source": [
    "def Diff(li1, li2):\n",
    "    \n",
    "    set_difference= set(li1) - set(li2)\n",
    "    return list(set_difference)"
   ]
  },
  {
   "cell_type": "code",
   "execution_count": 18,
   "metadata": {},
   "outputs": [
    {
     "data": {
      "text/plain": [
       "[]"
      ]
     },
     "execution_count": 18,
     "metadata": {},
     "output_type": "execute_result"
    }
   ],
   "source": [
    "Diff(words_bank, text_lau)"
   ]
  },
  {
   "cell_type": "code",
   "execution_count": 19,
   "metadata": {},
   "outputs": [
    {
     "data": {
      "text/plain": [
       "[]"
      ]
     },
     "execution_count": 19,
     "metadata": {},
     "output_type": "execute_result"
    }
   ],
   "source": [
    "Diff(text_lau, words_bank)"
   ]
  },
  {
   "cell_type": "code",
   "execution_count": null,
   "metadata": {},
   "outputs": [],
   "source": []
  }
 ],
 "metadata": {
  "interpreter": {
   "hash": "916dbcbb3f70747c44a77c7bcd40155683ae19c65e1c03b4aa3499c5328201f1"
  },
  "kernelspec": {
   "display_name": "Python 3.9.7 64-bit",
   "language": "python",
   "name": "python3"
  },
  "language_info": {
   "codemirror_mode": {
    "name": "ipython",
    "version": 3
   },
   "file_extension": ".py",
   "mimetype": "text/x-python",
   "name": "python",
   "nbconvert_exporter": "python",
   "pygments_lexer": "ipython3",
   "version": "3.9.7"
  },
  "orig_nbformat": 4
 },
 "nbformat": 4,
 "nbformat_minor": 2
}
